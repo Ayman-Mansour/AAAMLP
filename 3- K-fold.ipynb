{
 "cells": [
  {
   "cell_type": "markdown",
   "metadata": {},
   "source": [
    "## K-fold ##"
   ]
  },
  {
   "cell_type": "code",
   "execution_count": 3,
   "metadata": {},
   "outputs": [],
   "source": [
    "import pandas as pd\n",
    "from sklearn import model_selection\n",
    "\n",
    "if __name__ == \"__main__\":\n",
    "    df = pd.read_csv(\"datasets/winequality-red.csv\")\n",
    "    \n",
    "    df[\"kfold\"] = -1\n",
    "    \n",
    "    df = df.sample(frac=1).reset_index(drop=True)\n",
    "    \n",
    "    kf = model_selection.KFold(n_splits=5)\n",
    "    for fold, (trn_, val_) in enumerate(kf.split(X=df)):\n",
    "        df.loc[val_,\"kfold\"] = fold\n",
    "    \n",
    "    df.to_csv(\"wine_train_folds.csv\", index=False)"
   ]
  },
  {
   "cell_type": "markdown",
   "metadata": {},
   "source": [
    "## Stratified K-Fold ##"
   ]
  },
  {
   "cell_type": "code",
   "execution_count": null,
   "metadata": {},
   "outputs": [],
   "source": []
  },
  {
   "cell_type": "code",
   "execution_count": 4,
   "metadata": {},
   "outputs": [],
   "source": [
    "import pandas as pd\n",
    "from sklearn import model_selection\n",
    "\n",
    "if __name__ == \"__main__\":\n",
    "    df = pd.read_csv(\"datasets/winequality-red.csv\")\n",
    "    \n",
    "    df[\"kfold\"] = -1\n",
    "    \n",
    "    df = df.sample(frac=1).reset_index(drop=True)\n",
    "    df\n",
    "    y = df.quality.values\n",
    "    \n",
    "    kf = model_selection.StratifiedKFold(n_splits=5)\n",
    "    for f, (t_, v_) in enumerate(kf.split(X=df, y=y)):\n",
    "        df.loc[v_,\"kfold\"] = f\n",
    "    \n",
    "    df.to_csv(\"wine_train_folds.csv\", index=False)"
   ]
  },
  {
   "cell_type": "code",
   "execution_count": 5,
   "metadata": {},
   "outputs": [
    {
     "data": {
      "text/plain": [
       "Text(0, 0.5, 'count')"
      ]
     },
     "execution_count": 5,
     "metadata": {},
     "output_type": "execute_result"
    },
    {
     "data": {
      "image/png": "[encoded data removed]",
      "text/plain": [
       "<Figure size 432x288 with 1 Axes>"
      ]
     },
     "metadata": {
      "needs_background": "light"
     },
     "output_type": "display_data"
    }
   ],
   "source": [
    "import seaborn as sns\n",
    "b = sns.countplot(x=\"quality\", data=df)\n",
    "b.set_xlabel(\"quality\", fontsize=20)\n",
    "b.set_ylabel(\"count\", fontsize=20)"
   ]
  },
  {
   "cell_type": "markdown",
   "metadata": {},
   "source": [
    "## Starified K-fold for regresion ##"
   ]
  },
  {
   "cell_type": "code",
   "execution_count": 11,
   "metadata": {},
   "outputs": [
    {
     "name": "stdout",
     "output_type": "stream",
     "text": [
      "            f_0       f_1       f_2       f_3       f_4       f_5       f_6  \\\n",
      "0     -0.512279  1.033992  0.099563 -0.191364 -0.976326  0.062305 -0.297252   \n",
      "1     -0.628963 -0.312618  2.002581  0.145811  0.188291 -0.161313  0.773931   \n",
      "2     -0.178079  0.655753 -0.444633  1.898745  1.028232  1.079012  0.871305   \n",
      "3     -1.400675  0.158450  1.018766 -0.548178 -1.597003  1.641846  0.325145   \n",
      "4     -1.143048 -0.511352 -0.017557  0.099501  0.473578  0.595287 -0.091052   \n",
      "...         ...       ...       ...       ...       ...       ...       ...   \n",
      "14995 -0.953259  1.001015 -0.352310 -0.660088 -1.439670 -0.072091  0.826056   \n",
      "14996 -1.023900  0.079688  0.683667 -0.044673  1.344201  0.242054  1.722516   \n",
      "14997  0.676170 -0.029304 -0.901075 -1.193510 -1.089700  1.681143 -1.011632   \n",
      "14998  1.201254  1.118762 -1.373371 -0.897106 -0.194666  0.158659 -0.378312   \n",
      "14999 -0.260159  0.291737 -0.021153  0.183450 -1.046266  0.707696 -0.270510   \n",
      "\n",
      "            f_7       f_8       f_9  ...      f_93      f_94      f_95  \\\n",
      "0     -0.368882  1.715451  1.593279  ...  0.462768  0.051431 -0.394877   \n",
      "1      0.831663 -0.808791 -0.466486  ...  0.676736  1.946994  0.500327   \n",
      "2      0.201798  0.410183  0.924773  ...  1.499145  0.286833 -0.447365   \n",
      "3     -0.094007  0.277840 -2.040004  ... -1.485471  0.983642 -0.325464   \n",
      "4     -0.396703 -0.718070  1.024986  ...  0.949145 -0.731109  1.013560   \n",
      "...         ...       ...       ...  ...       ...       ...       ...   \n",
      "14995 -0.402384 -0.214075  0.494848  ...  0.697348 -1.417730  0.369589   \n",
      "14996  1.161956 -0.142910  0.242214  ... -0.188445  0.539838 -0.801900   \n",
      "14997  0.626743 -1.446461  0.345225  ...  0.327973 -1.002192  0.793462   \n",
      "14998  0.092717  0.478166  0.168489  ...  0.695394 -0.287538 -0.825635   \n",
      "14999  0.858919 -0.702128 -0.843697  ...  0.214469  0.726727  1.152069   \n",
      "\n",
      "           f_96      f_97      f_98      f_99      target  kfold   kfold  \n",
      "0     -0.905776 -0.323581 -0.702097 -0.965436  -75.888589     -1     0.0  \n",
      "1     -0.382572  0.029693  0.401431  0.580944  -18.483634     -1     0.0  \n",
      "2     -0.038070 -0.902037 -0.996542 -1.078862   90.708466     -1     0.0  \n",
      "3      0.563214  0.449291 -0.597842  0.932515   -3.167829     -1     0.0  \n",
      "4     -0.296906  1.449564 -0.218671 -0.040360  -93.083947     -1     0.0  \n",
      "...         ...       ...       ...       ...         ...    ...     ...  \n",
      "14995  1.168890 -0.315038  0.552572  1.747092  216.187053     -1     4.0  \n",
      "14996  0.413939  0.805943 -0.808348 -0.745988  -35.467037     -1     4.0  \n",
      "14997 -0.012856  1.150678  1.751395  1.463658   73.899202     -1     4.0  \n",
      "14998 -0.119571  3.459132  0.080898  0.224705  169.619893     -1     4.0  \n",
      "14999 -0.550548  0.773775  2.722013 -0.043781  194.835353     -1     4.0  \n",
      "\n",
      "[15000 rows x 103 columns]\n"
     ]
    },
    {
     "name": "stderr",
     "output_type": "stream",
     "text": [
      "D:\\Anaconda3\\lib\\site-packages\\sklearn\\model_selection\\_split.py:667: UserWarning: The least populated class in y has only 3 members, which is less than n_splits=5.\n",
      "  % (min_groups, self.n_splits)), UserWarning)\n"
     ]
    }
   ],
   "source": [
    "import numpy as np\n",
    "import pandas as pd\n",
    "\n",
    "from sklearn import datasets\n",
    "from sklearn import model_selection\n",
    "\n",
    "def create_folds(data):\n",
    "    data[\"kfold\"] = -1\n",
    "    \n",
    "    data = data.sample(frac=1).reset_index(drop=True)\n",
    "    num_bins = int(np.floor(1+np.log2(len(data))))\n",
    "    \n",
    "    data.loc[:, \"bins\"] = pd.cut(\n",
    "        data[\"target\"], bins=num_bins, labels=False\n",
    "    )\n",
    "    \n",
    "    kf = model_selection.StratifiedKFold(n_splits=5)\n",
    "    \n",
    "    for f, (t_,v_) in enumerate (kf.split(X=data, y=data.bins.values)):\n",
    "        data.loc[v_,' kfold'] = f\n",
    "        \n",
    "    data = data.drop(\"bins\", axis=1)\n",
    "    return data\n",
    "if __name__ == \"__main__\":\n",
    "    X,y = datasets.make_regression(\n",
    "        n_samples=15000, n_features=100, n_targets=1\n",
    "    )\n",
    "    \n",
    "    df = pd.DataFrame(\n",
    "        X,\n",
    "        columns=[f\"f_{i}\"for i in range(X.shape[1]) ]\n",
    "    )\n",
    "    df.loc[:, \"target\"] = y\n",
    "    \n",
    "    df = create_folds(df)\n",
    "    print(df)"
   ]
  },
  {
   "cell_type": "code",
   "execution_count": 23,
   "metadata": {},
   "outputs": [],
   "source": [
    "# import seaborn as sns\n",
    "# from matplotlib import pyplot as plt\n",
    "# plt.figure(figsize=(100, 50))\n",
    "# b = sns.countplot(x=\"target\", data=df)\n",
    "# b.set_xlabel(\"target\", fontsize=200)\n",
    "# b.set_ylabel(\"count\", fontsize=200)"
   ]
  }
 ],
 "metadata": {
  "kernelspec": {
   "display_name": "Python 3",
   "language": "python",
   "name": "python3"
  },
  "language_info": {
   "codemirror_mode": {
    "name": "ipython",
    "version": 3
   },
   "file_extension": ".py",
   "mimetype": "text/x-python",
   "name": "python",
   "nbconvert_exporter": "python",
   "pygments_lexer": "ipython3",
   "version": "3.7.6"
  }
 },
 "nbformat": 4,
 "nbformat_minor": 2
}
